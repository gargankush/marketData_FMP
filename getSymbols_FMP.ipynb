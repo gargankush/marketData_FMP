{
 "cells": [
  {
   "cell_type": "markdown",
   "metadata": {},
   "source": [
    "# Python Script to source stock symbols and their latest information from Financial Modelling Prep API"
   ]
  },
  {
   "cell_type": "markdown",
   "metadata": {},
   "source": [
    "### Import required libraries"
   ]
  },
  {
   "cell_type": "code",
   "execution_count": null,
   "metadata": {},
   "outputs": [],
   "source": [
    "#!/usr/bin/env python\n",
    "# Import the required libraries\n",
    "import os\n",
    "import pandas as pd\n",
    "# Checking whether system is using python 3 or python 2\n",
    "try:\n",
    "    # For Python 3.0 and later\n",
    "    from urllib.request import urlopen\n",
    "except ImportError:\n",
    "    # Fall back to Python 2's urllib2\n",
    "    from urllib2 import urlopen\n",
    "\n",
    "#Import json as data from FMP will be in json format\n",
    "import json"
   ]
  },
  {
   "cell_type": "markdown",
   "metadata": {},
   "source": [
    "### Function to source the symbols from FMP"
   ]
  },
  {
   "cell_type": "code",
   "execution_count": null,
   "metadata": {},
   "outputs": [],
   "source": [
    "def get_jsonparsed_data(url):\n",
    "    \"\"\"\n",
    "    Receive the content of ``url``, parse it as JSON and return the object.\n",
    "\n",
    "    Parameters\n",
    "    ----------\n",
    "    url : str\n",
    "\n",
    "    Returns\n",
    "    -------\n",
    "    dict\n",
    "    \"\"\"\n",
    "    response = urlopen(url)\n",
    "    data = response.read().decode(\"utf-8\")\n",
    "    return json.loads(data)"
   ]
  },
  {
   "cell_type": "markdown",
   "metadata": {},
   "source": [
    "### Function to get the API Key stored in the environmental variable. To get details on the procedure refer to my medium post: https://gargankush.medium.com/storing-api-keys-as-environmental-variable-for-windows-linux-and-mac-and-accessing-it-through-974ba7c5109f?source=friends_link&sk=bfae7f0c74502a67cb58f19569e24a76"
   ]
  },
  {
   "cell_type": "code",
   "execution_count": null,
   "metadata": {},
   "outputs": [],
   "source": [
    "# Get the API Key\n",
    "def get_API_Key():\n",
    "    \"\"\"\n",
    "    Receive the content of API key sdaved in the Environmental variable: FMP_APIKEY.\n",
    "    API key is unique for each user\n",
    "\n",
    "    Parameters\n",
    "    ----------\n",
    "    None\n",
    "\n",
    "    Returns\n",
    "    -------\n",
    "    API Key as string\n",
    "    \"\"\"\n",
    "    FMP_API_KEY = os.environ.get('FMP_APIKEY')\n",
    "    return FMP_API_KEY"
   ]
  },
  {
   "cell_type": "markdown",
   "metadata": {},
   "source": [
    "### Function to convert the json data to csv file"
   ]
  },
  {
   "cell_type": "code",
   "execution_count": 27,
   "metadata": {},
   "outputs": [],
   "source": [
    "def json_to_csv(json_data, csv_file):\n",
    "    df = pd.DataFrame(json_data)\n",
    "    # Sort the dataframe on exchange\n",
    "    df.sort_values(by=['exchange'], ascending=True, inplace=True)\n",
    "    df.to_csv(csv_file, index=None)"
   ]
  },
  {
   "cell_type": "markdown",
   "metadata": {},
   "source": [
    "### Main function to source all the symbols for which data is provided by FMP API"
   ]
  },
  {
   "cell_type": "code",
   "execution_count": 28,
   "metadata": {},
   "outputs": [],
   "source": [
    "def main():\n",
    "    #Output csv file name\n",
    "    output_file = \"symbols_FMP.csv\"\n",
    "    \n",
    "    # FMP url to fetch the data\n",
    "    url = (\"https://financialmodelingprep.com/api/v3/stock/list?apikey=\"+get_API_Key())\n",
    "    \n",
    "    # Get Symbols in json format\n",
    "    symbols_json = get_jsonparsed_data(url)\n",
    "    \n",
    "    # Convert json format to csv file\n",
    "    json_to_csv(symbols_json,output_file)\n",
    "if __name__ == \"__main__\":\n",
    "    main()"
   ]
  },
  {
   "cell_type": "markdown",
   "metadata": {},
   "source": [
    "## Congratulations!!! all the symbol data is sourced from API and saved in csv file"
   ]
  }
 ],
 "metadata": {
  "kernelspec": {
   "display_name": "Python 3",
   "language": "python",
   "name": "python3"
  },
  "language_info": {
   "codemirror_mode": {
    "name": "ipython",
    "version": 3
   },
   "file_extension": ".py",
   "mimetype": "text/x-python",
   "name": "python",
   "nbconvert_exporter": "python",
   "pygments_lexer": "ipython3",
   "version": "3.8.3"
  }
 },
 "nbformat": 4,
 "nbformat_minor": 4
}
